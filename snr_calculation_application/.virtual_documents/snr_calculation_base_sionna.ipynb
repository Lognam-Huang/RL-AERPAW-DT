import numpy as np
import tensorflow as tf
import math
from sionna.rt import load_scene, PathSolver


scene = load_scene("C:/Users/legoe/Blender/BlenderDataFiles/SNR_Calculation/lake_wheeler_road_aerpaw.xml")
scene.preview(show_devices=True)



