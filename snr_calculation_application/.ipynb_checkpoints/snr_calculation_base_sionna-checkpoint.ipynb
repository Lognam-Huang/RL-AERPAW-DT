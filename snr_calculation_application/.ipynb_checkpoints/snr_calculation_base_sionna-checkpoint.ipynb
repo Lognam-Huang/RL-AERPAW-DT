{
 "cells": [
  {
   "cell_type": "code",
   "execution_count": 1,
   "id": "994a2aef-0eb8-4c9e-8aa4-e2a9832681e3",
   "metadata": {},
   "outputs": [],
   "source": [
    "import numpy as np\n",
    "import tensorflow as tf\n",
    "import math\n",
    "import sionna\n",
    "from sionna.rt import load_scene, PathSolver"
   ]
  },
  {
   "cell_type": "code",
   "execution_count": null,
   "id": "a98d84ec-c6f1-4216-9ec2-effba67ac8d2",
   "metadata": {},
   "outputs": [],
   "source": [
    "scene = load_scene(\"C:/Users/legoe/Blender/BlenderDataFiles/SNR_Calculation/lake_wheeler_road_aerpaw.xml\")\n",
    "scene.preview(show_devices=True)"
   ]
  },
  {
   "cell_type": "code",
   "execution_count": null,
   "id": "3f6395a3-b5aa-45fc-baf9-92c158594594",
   "metadata": {},
   "outputs": [],
   "source": []
  }
 ],
 "metadata": {
  "kernelspec": {
   "display_name": "Python 3 (ipykernel)",
   "language": "python",
   "name": "python3"
  },
  "language_info": {
   "codemirror_mode": {
    "name": "ipython",
    "version": 3
   },
   "file_extension": ".py",
   "mimetype": "text/x-python",
   "name": "python",
   "nbconvert_exporter": "python",
   "pygments_lexer": "ipython3",
   "version": "3.11.9"
  }
 },
 "nbformat": 4,
 "nbformat_minor": 5
}
