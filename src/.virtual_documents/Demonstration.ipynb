








# TODO: Add information about how the files are generated into this program.
# Importing the Framework and other important libraries
import sionna
import numpy as np
import tensorflow as tf
import matplotlib.pyplot as plt
from EnvironmentFramework import Environment, UAV, GroundUser
from sionna.rt import PlanarArray


# Loading the environment data from the Mitsuba Blender Export
env = sionna.rt.load_scene('../data/RaleighUnionSquareStandardReference/raleigh_union_square.xml')
env.preview()


# Creating the environment, this could take a couple minutes
env = Environment('../data/RaleighUnionSquareStandardReference/raleigh_union_square.xml',
                  "../data/simulated_final_person_new.csv",
                  time_step=1, ped_height=1.5, ped_rx=True, wind_vector=np.zeros(3))
env.scene.preview(show_devices=True)





env.scene.preview(show_devices=True)


env.addUAV(id=1, pos=np.array([0, 0, 100]))
env.scene.preview(show_devices=True)





env.plotGUs()





# Defining colors for consistancy
c = np.random.rand(5, 3)

env.addUAV('a', mass=10, efficiency=0.8, pos=np.array([0, 0, 30]), vel=np.zeros(3), color=c[0], bandwidth=50, rotor_area=0.5)
env.addUAV('b', mass=10, efficiency=0.8, pos=np.array([0, -500, 30]), vel=np.zeros(3), color=c[1], bandwidth=50, rotor_area=0.5)
env.addUAV('c', mass=10, efficiency=0.8, pos=np.array([500, 0, 30]), vel=np.zeros(3), color=c[2], bandwidth=50, rotor_area=0.5)
env.addUAV('d', mass=10, efficiency=0.8, pos=np.array([0, 500, 30]), vel=np.zeros(3), color=c[3], bandwidth=50, rotor_area=0.5)
env.addUAV('e', mass=10, efficiency=0.8, pos=np.array([-500, 0, 30]), vel=np.zeros(3), color=c[4], bandwidth=50, rotor_area=0.5)


env.scene.preview(show_devices=True)





# Change path quality to different name
# Change path quality to 
num_steps = 10
scale = 2
path_quality = []
consumption = []

# Setting the transmitter and receiver arrays
env.setTransmitterArray(AntennaArray(antenna=Antenna("tr38901", "V"), positions=tf.Variable([0.0,0.0,0.0])))
env.setReceiverArray(AntennaArray(antenna=Antenna("tr38901", "V"), positions=tf.Variable([0.0,0.0,0.0])))

for i in range(num_steps):
    scale = i
    env.step({'a': [env.uavs['a'].pos + scale * np.random.rand(3), np.zeros(3)],
              'b': [env.uavs['b'].pos + scale * np.random.rand(3), np.zeros(3)], 
              'c': [env.uavs['c'].pos + scale * np.random.rand(3), np.zeros(3)], 
              'd': [env.uavs['d'].pos + scale * np.random.rand(3), np.zeros(3)], 
              'e': [env.uavs['e'].pos + scale * np.random.rand(3), np.zeros(3)]})
    consumption.append(list(env.getConsumptions().values()))
    path_quality.append(env.computeGeneralLoss(2, 100000))
    env.scene.preview(show_devices=True)


import matplotlib.pyplot as plt
plt.plot(np.array(path_quality))
plt.title("Path Quality vs. Time Step")
plt.xlabel("Time Step")
plt.ylabel("Path Quality");


consumption = np.array(consumption)
for i in range(5):
    plt.plot(consumption[:,i], color=c[i])
plt.title("UAV consumption vs. Time Step")
plt.xlabel("Time Step")
plt.ylabel("Energy Consumption (Joules)");





# New Imports
from sklearn.cluster import KMeans


# Testing the random distribution method

qualities = []
for i in range(num_steps):
    for uav in ['a', 'b', 'c', 'd', 'e']:
        position = np.array([np.random.randint(-500, 500), np.random.randint(-500, 500), 30])
        env.moveAbsUAV(uav, position, np.zeros(3))
    qualities.append(env.computeGeneralLoss(2, 100000))
    env.scene.preview(show_devices=True)


plt.plot(np.array(qualities))
plt.title("Path Quality vs. Time Step for Random Distribution")
plt.xlabel("Time Step")
plt.ylabel("Path Quality");


# Testing the K-Means model

qualities = []
for i in range(num_steps):
    model = KMeans(n_clusters=5)
    X = []
    for gu in env.gus:
        X.append(gu.pos)
    model.fit(np.array(X));

    tags = ['a', 'b', 'c', 'd', 'e']
    for i in range(len(tags)):
        position = np.array([model.cluster_centers_[i][0], model.cluster_centers_[i][1], 30])
        env.moveAbsUAV(tags[i], position, np.zeros(3))

    qualities.append(env.computeGeneralLoss(2, 100000))
    env.scene.preview(show_devices=True)


plt.plot(np.array(qualities))
plt.title("Path Quality vs. Time Step for K-Means Distribution")
plt.xlabel("Time Step")
plt.ylabel("Path Quality");





# Necessary Imports
import numpy as np
import tensorflow as tf
import matplotlib
import matplotlib.pyplot as plt
from EnvironmentFramework import Environment, UAV, GroundUser
from sionna.rt import Antenna, AntennaArray, Camera





np.random.seed(1)
simulation_steps = 101
scale = 10
num_uavs = 4
signs = [[1, 1], [-1, 1], [1, -1], [-1, -1]]  # Signs to move UAVs in different directions
positions = []

row = {}
for i in range(num_uavs):
    pos = np.zeros(3)
    pos[2] = 150
    row[str(i)] = [2, pos, np.random.rand(3)]
positions.append(row)

for i in range(simulation_steps):
    row = {}
    
    for j in range(num_uavs):
        pos = scale * np.random.rand(3)
        pos[0] = pos[0] * signs[j][0] + positions[i][str(j)][1][0]
        pos[1] = pos[1] * signs[j][1] + positions[i][str(j)][2][1]
        pos[2] = 150
        row[str(j)] = [2, pos, np.random.rand(3)]
    positions.append(row)





# Resetting the environment variable
def createEnvironment():
    return Environment("C:/Users/legoe/Blender/BlenderDataFiles/RaleighUnionSquareMitsubaExport/raleigh_union_square_mitsuba.xml",
                       "C:/Users/legoe/Sumo/2024-10-04-09-05-18/simulated_final_person_new.csv",
                       time_step=1, ped_height=1.5, ped_rx=True, ped_color=matplotlib.colors.to_rgb("red"), 
                       wind_vector=np.zeros(3), temperature=290)





# print(env.scene.objects)





def resetUAVs():
    # c = np.array([0.07457407, 0.3703057, 0.12341886])
    
    env.addUAV(0, mass=10, efficiency=0.8, pos=np.array([0, 0, 150]), vel=np.zeros(3), color=matplotlib.colors.to_rgb("green"), bandwidth=50, rotor_area=0.5, signal_power=2)
    env.addUAV(1, mass=10, efficiency=0.8, pos=np.array([0, 0, 150]), vel=np.zeros(3), color=matplotlib.colors.to_rgb("blue"), bandwidth=50, rotor_area=0.5, signal_power=2)
    env.addUAV(2, mass=10, efficiency=0.8, pos=np.array([0, 0, 150]), vel=np.zeros(3), color=matplotlib.colors.to_rgb("black"), bandwidth=50, rotor_area=0.5, signal_power=2)
    env.addUAV(3, mass=10, efficiency=0.8, pos=np.array([0, 0, 150]), vel=np.zeros(3), color=matplotlib.colors.to_rgb("orange"), bandwidth=50, rotor_area=0.5, signal_power=2)





def resetAntennas():
    env.setTransmitterArray(AntennaArray(antenna=Antenna("tr38901", "V"), positions=tf.Variable([0.0,0.0,0.0])))
    env.setReceiverArray(AntennaArray(antenna=Antenna("tr38901", "V"), positions=tf.Variable([0.0,0.0,0.0])))





env.scene.render(camera=Camera("c1", np.array([0, 900, 144]), orientation=None, look_at=np.array([0, 0, 0])), 
                 show_devices=True, num_samples=32, resolution=[5000, 1000], fov=120);





# Paths
paths = env.computeGeneralPaths(2, 100000)
print("Paths computed...")
env.scene.render(camera=Camera("c1", np.array([0, 900, 144]), orientation=None, look_at=np.array([0, 0, 0])), 
                 paths=paths, show_paths=True, show_devices=True, num_samples=32, resolution=[3000, 600], fov=120);


# Coverage Maps
cm = env.computeCoverageMap(2, 1000000)
print("Coverage Map Computed...")
env.scene.render(camera=Camera("c1", np.array([0, 900, 144]), orientation=None, look_at=np.array([0, 0, 0])), 
                 coverage_map=cm, show_paths=False, show_devices=True, num_samples=32, resolution=[3000, 600], fov=120);





"""
for i in range(simulation_steps):
    env.step(positions[i + 1])
    
    env.scene.preview(show_devices=True)
"""
env.scene.preview(show_devices=True)


a = env.computeGeneralDataRate(2, 100000)


print(a.shape)
a = tf.squeeze(a)
print(a.shape)

# We want the average theoretical maximum data rate for each UAV
# This should be averaged from all users and summed for all paths
# We can do the averaging and summing later, but first we need to pass it all through the tmdr function

B = 100  # Mbps
P_t = 2  # Watts
k = 1.380649e-23  # Joules / Kelvin
T = 290  # Kelvin
F = 6  # dB

# I should also check the units on this computation
rtn = []
for uav in env.uavs.values():
    rtn.append(tf.math.reduce_sum(uav.bandwidth * np.log2(1 + 100 * np.abs(a[:, int(uav.id), :]) / (k * T * uav.bandwidth))))

print(tf.convert_to_tensor(rtn))
# a_tmdr = 100 * np.log2(1 + np.log10((P_t + 20 * np.log10(np.abs(a))) / (k * T * B * F)))





import time

# Restarting the Scene, this resets the UAV positions
env = createEnvironment()
resetUAVs()
resetAntennas()

consumptions = [[], [], [], []]

for i in range(simulation_steps):
    env.step(positions[i + 1])

    for j in range(num_uavs):
        consumptions[j].append(env.getUAVConsumption(str(j)))

    # Approximate power consumption per UAV used to adjust the graph region
    plt.ylim(0, simulation_steps * 3200)
    plt.xlim(0, simulation_steps)
    
    for j in range(num_uavs):
        plt.plot(consumptions[j], color=np.array(env.uavs[str(j)].device.color), label=f'UAV {j}')

    plt.title("UAV Energy Consumption (Joules) vs. Time (Seconds)")
    plt.xlabel("Time (Seconds)")
    plt.ylabel("Energy Consumption (Joules)")
    plt.legend()

    plt.show()





import time

# Restarting the Scene, this resets the UAV positions
env = createEnvironment()
resetUAVs()
resetAntennas()

path_qualities = []

for i in range(10):
    env.step(positions[i])

    path_qualities.append(env.computeGeneralDataRate(max_depth=2, num_samples=100000))
    print(path_qualities[-1])
    """
    # Setting plotting limits based on historical and known information
    plt.xlim(0, simulation_steps)
    plt.ylim(0, 1000000)
    plt.plot(path_qualities[i], color="red")
    plt.title("Total Path Quality vs. Time")
    plt.xlabel("Time (Seconds)")
    plt.ylabel("Total Path Quality")
    plt.show()
    """





# Defining Constants
simulation_steps = 50  # Test this with a single one before AFKing, ideally about 100+
num_uavs = 4
max_depth = 2
right_buffer = 5
path_computation_samples = 100000
coverage_map_samples = 1000000
expected_consumption = 3400
expected_tmdr = 5000000  # Theortical Maximum Data Rate in bit/sec
render_camera = Camera("c1", np.array([0, 900, 144]), orientation=None, look_at=np.array([0, 0, 0]))
render_samples = 32
res = [4000, 800]
fov = 120
pwr, tmdr, pat, cmr = True, True, True, True

# Arrays for data
consumptions = [[], [], [], []]
tmdrs = [[], [], [], []]

# Restarting the Scene, this resets the UAV positions
env = createEnvironment()
resetUAVs()
resetAntennas()

for i in range(simulation_steps):
    print(f'Simulation: {i}')
    env.step(positions[i + 1])  # Moving the UAVs and Ground Users
    
    # Power Consumption
    if pwr:
        for j in range(num_uavs):
            consumptions[j].append(env.getUAVConsumption(str(j)))
    
        # Approximate power consumption per UAV used to adjust the graph region
        plt.xlim(0, simulation_steps + right_buffer - 1)
        plt.ylim(0, simulation_steps * expected_consumption)
        
        for j in range(num_uavs):
            plt.plot(consumptions[j], color=np.array(env.uavs[str(j)].device.color), label=f'UAV {j}')
    
        plt.title("UAV Energy Consumption (Joules) vs. Time (Seconds)")
        plt.xlabel("Time (Seconds)")
        plt.ylabel("Energy Consumption (Joules)")
        plt.legend(loc="lower right")
        plt.savefig(f'demo_files_new/pwr{i}.png')
        plt.clf()
        # print("Power Done...")

    # Total Theoretical Maximum Data Rate
    if tmdr:
        # Adding new data rate values
        data_rate = env.computeGeneralDataRate(max_depth=max_depth, num_samples=path_computation_samples)
        for j in range(num_uavs):
            tmdrs[j].append(data_rate[j])
    
        # Setting plotting limits based on historical and known information
        plt.xlim(0, simulation_steps + right_buffer - 1)
        plt.ylim(0, expected_tmdr)

        for j in range(num_uavs):
            plt.plot(tmdrs[j], color=np.array(env.uavs[str(j)].device.color), label=f'UAV {j}')
            
        plt.title("Theoretical Maximum Data Rate vs. Time")
        plt.xlabel("Time (Seconds)")
        plt.ylabel("Theoretical Maximum Data Rate (Mbps)")
        plt.legend(loc="lower right")
        plt.savefig(f'demo_files_new/mdr{i}.png')
        plt.clf()
        # print("TMDR Done...")

    # Paths
    if pat:
        paths = env.computeGeneralPaths(max_depth, path_computation_samples)
        env.scene.render_to_file(camera=render_camera, filename=f'demo_files_new/pat{i}.png', paths=paths, 
                                 show_devices=True, num_samples=render_samples, resolution=res, fov=fov);
        # print("Paths Done...")

    # Coverage Map
    if cmr:
        cm = env.computeCoverageMap(max_depth, coverage_map_samples)
        env.scene.render_to_file(camera=render_camera, filename=f'demo_files_new/cmr{i}.png', coverage_map=cm, show_paths=False, 
                                 show_devices=True, num_samples=render_samples, resolution=res, fov=fov);
        # print("Coverage Map Done...")


for i in range(simulation_steps):
    print(i)
    env.step(positions[i])

    coverage_map = env.computeCoverageMap(max_depth=2, num_samples=1000000)

    env.scene.preview(show_devices=True, coverage_map=coverage_map)


plt.ion()
fig = plt.figure() 
ax = fig.add_subplot(111)

lines = []
for i in range(5):
    lines.append(ax.scatter(
lines = []
for i in range(5):
    lines.append(ax.scatter(np.arange(simulation_steps), consumptions[i]))


print(consumptions)





# Restarting the Scene, this resets the UAV positions
env = createEnvironment()
resetUAVs()
resetAntennas()


cm = env.scene.coverage_map(max_depth=2, cm_cell_size=(3,3), num_samples=10000000, 
                            los=True, reflection=True, diffraction=True,
                            edge_diffraction=True, ris=False, check_scene=False,
                            num_runs=1)


pattern = cm.cell_to_tx("path_gain")
print(pattern)


tf.reduce_sum(pattern) / (pattern.shape[0] * pattern.shape[1])


env.scene.preview(show_devices=True, coverage_map=cm)


env.scene.render(camera=Camera(name="a", position=[0, 0, 0]), show_devices=True, coverage_map=cm) 





env = createEnvironment()
resetUAVs()
resetAntennas()


res = env.computeGeneralDataRate(max_depth=2, num_samples=10000)
print(res)


print(res.shape)
assignments = env.assignGUs(res)
print(assignments)





# Necessary Imports
import numpy as np
import tensorflow as tf
import matplotlib
import matplotlib.pyplot as plt
from EnvironmentFramework import Environment, UAV, GroundUser
from sionna.rt import Antenna, AntennaArray, Camera

np.random.seed(1)
simulation_steps = 101
scale = 10
num_uavs = 4
num_gus = 118
signs = [[1, 1], [-1, 1], [1, -1], [-1, -1]]  # Signs to move UAVs in different directions
positions = []
desired_throughput_var = 500
desired_throughput_mean = 10000

# Generating random position data for UAV movement
row = {}
for i in range(num_uavs):
    pos = np.zeros(3)
    pos[2] = 150
    row[i] = [2, pos, np.random.rand(3)]
positions.append(row)

for i in range(simulation_steps):
    row = {}
    
    for j in range(num_uavs):
        pos = scale * np.random.rand(3)
        pos[0] = pos[0] * signs[j][0] + positions[i][j][1][0]
        pos[1] = pos[1] * signs[j][1] + positions[i][j][2][1]
        pos[2] = 150
        row[j] = [2, pos, np.random.rand(3)]
    positions.append(row)

# Generating random desired throughput data for Ground Users
randomized_desired_throughputs = desired_throughput_var * np.random.randn(num_gus, simulation_steps) + desired_throughput_mean

# Resetting the environment variable
def createEnvironment():
    return Environment("C:/Users/legoe/Blender/BlenderDataFiles/RaleighUnionSquareMitsubaExport/raleigh_union_square_mitsuba.xml",
                       "C:/Users/legoe/Sumo/2024-10-04-09-05-18/simulated_final_person_new.csv",
                       desired_throughputs=randomized_desired_throughputs,
                       time_step=1, ped_height=1.5, ped_rx=True, ped_color=matplotlib.colors.to_rgb("red"), 
                       wind_vector=np.zeros(3), temperature=290)

def resetUAVs():
    # c = np.array([0.07457407, 0.3703057, 0.12341886])
    
    env.addUAV(0, mass=10, efficiency=0.8, pos=np.array([0, 0, 150]), vel=np.zeros(3), color=matplotlib.colors.to_rgb("red"), bandwidth=50, rotor_area=0.5, signal_power=2, throughput_capacity=250000)
    env.addUAV(1, mass=10, efficiency=0.8, pos=np.array([0, 0, 150]), vel=np.zeros(3), color=matplotlib.colors.to_rgb("blue"), bandwidth=50, rotor_area=0.5, signal_power=2, throughput_capacity=250000)
    env.addUAV(2, mass=10, efficiency=0.8, pos=np.array([0, 0, 150]), vel=np.zeros(3), color=np.array([1, 0.455, 0.643]), bandwidth=50, rotor_area=0.5, signal_power=2, throughput_capacity=250000)
    env.addUAV(3, mass=10, efficiency=0.8, pos=np.array([0, 0, 150]), vel=np.zeros(3), color=matplotlib.colors.to_rgb("orange"), bandwidth=50, rotor_area=0.5, signal_power=2, throughput_capacity=250000)

def resetAntennas():
    env.setTransmitterArray(AntennaArray(antenna=Antenna("tr38901", "V"), positions=tf.Variable([0.0,0.0,0.0])))
    env.setReceiverArray(AntennaArray(antenna=Antenna("tr38901", "V"), positions=tf.Variable([0.0,0.0,0.0])))


# Defining Constants
simulation_steps = 100  # Test this with a single one before AFKing, ideally about 100+
num_uavs = 4
num_gus = 118
max_depth = 2
right_buffer = 5
top_buffer = 10
data_rate_samples = 100000
coverage_map_samples = 1000000
expected_consumption = 8000
expected_tmdr = 1900000  # Actual Data Rate in bit/sec
expected_path_quality = 1900000  # Theortical Maximum Data Rate in bit/sec
render_camera = Camera("c1", np.array([0, 900, 144]), orientation=None, look_at=np.array([0, 0, 0]))
render_samples = 32
unassigned_color = np.array([0.8, 0.8, 0.8])  # Approximately Gray
resolution = [4000, 800]
fov = 120
pwr, mdr, cmr, mat, pqu =True, True, False, True, True

# Arrays for data - One for each UAV plus an extra for the totals
consumptions = [[], [], [], [], []]
tmdrs = [[], [], [], [], []]
matches = [[], [], [], [], []]
qualities = [[], [], [], [], []]

# Restarting the Scene, this resets the UAV positions
env = createEnvironment()
resetUAVs()
resetAntennas()

for i in range(simulation_steps):
    print(f'Simulation: {i}')
    env.step(positions[i + 1])  # Moving the UAVs and Ground Users

    # Assigning Ground Users
    alpha_values = env.computeAlpha(max_depth=max_depth, num_samples=data_rate_samples)
    path_quality_scores = env.computeGeneralDataRate(max_depth=max_depth, num_samples=data_rate_samples)
    assignments, data_rates = env.assignGUsWithTriObjective(alpha_values, scale=300, alpha=100, beta=1, gamma=10)

    # Color-Coding Ground Users
    for gu in env.gus:
        gu.device.color = unassigned_color
    for j in range(num_uavs):
        for gu in assignments[j]:
            env.gus[gu].device.color = env.uavs[j].device.color
    
    if mat:
        # Computing Matches
        for j in range(num_uavs):
            matches[j].append(len(assignments[j]))
        matches[num_uavs].append(sum([matches[k][-1] for k in range(num_uavs)])) 

        plt.xlim(0, simulation_steps + right_buffer - 1)
        plt.ylim(0, num_gus + top_buffer)

        for j in range(num_uavs):
            plt.plot(matches[j], color=np.array(env.uavs[j].device.color), label=f'UAV {j}')
        plt.plot(matches[num_uavs], color=np.zeros(3), label="Total")

        plt.title("Number of Ground User Assignments per UAV vs. Time")
        plt.xlabel("Time (Seconds)")
        plt.ylabel("Number of Ground Users")
        plt.legend(loc="lower right")
        plt.savefig(f'../demonstration_renders/polished_renders/3_assignGUsWithTriObjective/mat{i}.png', bbox_inches='tight')
        plt.clf()
        # print("Matches Done...")
        
    # Power Consumption
    if pwr:
        for j in range(num_uavs):
            consumptions[j].append(env.getUAVConsumption(j))
        consumptions[num_uavs].append(sum([consumptions[k][-1] for k in range(num_uavs)]))
    
        # Approximate power consumption per UAV used to adjust the graph region
        plt.xlim(0, simulation_steps + right_buffer - 1)
        plt.ylim(0, simulation_steps * expected_consumption)
        
        for j in range(num_uavs):
            plt.plot(consumptions[j], color=np.array(env.uavs[j].device.color), label=f'UAV {j}')
        plt.plot(consumptions[num_uavs], color=np.zeros(3), label="Total")
        
        plt.title("UAV Energy Consumption vs. Time")
        plt.xlabel("Time (Seconds)")
        plt.ylabel("Energy Consumption (Joules)")
        plt.legend(loc="lower right")
        plt.savefig(f'../demonstration_renders/polished_renders/3_assignGUsWithTriObjective/pwr{i}.png', bbox_inches='tight')
        plt.clf()
        # print("Power Done...")

    # Maximum Data Rate
    if mdr:
        # Adding new data rate values
        for j in range(num_uavs + 1):
            tmdrs[j].append(data_rates[j])
    
        # Setting plotting limits based on historical and known information
        plt.xlim(0, simulation_steps + right_buffer - 1)
        plt.ylim(0, expected_tmdr)

        for j in range(num_uavs):
            plt.plot(tmdrs[j], color=np.array(env.uavs[j].device.color), label=f'UAV {j}')
        plt.plot(tmdrs[num_uavs], color=np.zeros(3), label="Total")
            
        plt.title("Actual Data Rate vs. Time")
        plt.xlabel("Time (Seconds)")
        plt.ylabel("Actual Data Rate (Bytes/Sec)")
        plt.legend(loc="lower right")
        plt.savefig(f'../demonstration_renders/polished_renders/3_assignGUsWithTriObjective/mdr{i}.png', bbox_inches='tight')
        plt.clf()
        # print("MDR Done...")

    # Total path quality - a measure of signal quality instead of actual throughput
    if pqu:
        new_qualities = [np.sum(path_quality_scores[:, j]) for j in range(num_uavs)]
        new_qualities.append(sum(new_qualities))
        for j in range(num_uavs + 1):
            qualities[j].append(new_qualities[j])
        
        plt.xlim(0, simulation_steps + right_buffer - 1)
        plt.ylim(0, expected_path_quality)

        for j in range(num_uavs):
            plt.plot(qualities[j], color=np.array(env.uavs[j].device.color), label=f'UAV {j}')
        plt.plot(qualities[num_uavs], color=np.zeros(3), label="Total")

        plt.title("Theoretical Maximum Data Rate vs. Time")
        plt.xlabel("Time (Seconds)")
        plt.ylabel("Theoretical Maximum Data Rate (Bytes/Sec)")
        plt.legend(loc="lower right")
        plt.savefig(f'../demonstration_renders/polished_renders/3_assignGUsWithTriObjective/pqu{i}.png', bbox_inches='tight')
        plt.clf()
        # print("PQU Done...")

    # Coverage Map
    if cmr:
        cm = env.computeCoverageMap(max_depth, coverage_map_samples)
        env.scene.render_to_file(camera=render_camera, filename=f'../demonstration_renders/polished_renders/3_assignGUsWithTriObjective/cmr{i}.png', coverage_map=cm, 
                                 show_paths=False, show_devices=True, num_samples=render_samples, resolution=resolution, fov=fov);
        # print("Coverage Map Done...")





# Defining Constants
simulation_steps = 100  # Test this with a single one before AFKing, ideally about 100+
num_uavs = 4
num_gus = 118
max_depth = 2
right_buffer = 5
top_buffer = 10
data_rate_samples = 100000
coverage_map_samples = 1000000
expected_consumption = 3400
expected_tmdr = 400000  # Theortical Maximum Data Rate in bit/sec
render_camera = Camera("c1", np.array([0, 900, 144]), orientation=None, look_at=np.array([0, 0, 0]))
render_samples = 32
unassigned_color = np.array([0.8, 0.8, 0.8])  # Approximately Gray
resolution = [4000, 800]
fov = 120
pwr, tmdr, cmr, mat =True, True, True, True

# Optimization Constraints
alpha = 1
beta = 0.001
gamma = 100

# Arrays for data - One for each UAV plus an extra for the totals
consumptions = [[], [], [], [], []]
tmdrs = [[], [], [], [], []]
matches = [[], [], [], [], []]

# Restarting the Scene, this resets the UAV positions
env = createEnvironment()
resetUAVs()
resetAntennas()

for i in range(simulation_steps):
    print(f'Simulation: {i}')
    env.step(positions[i + 1])  # Moving the UAVs and Ground Users

    # Assigning Ground Users
    path_quality_scores = env.computeAlpha(max_depth=max_depth, num_samples=data_rate_samples)
    link_qualities = env.computeGeneralDataRate(max_depth=max_depth, num_samples=data_rate_samples)
    assignments, objective = env.assignGUsWithTriObjective(path_quality_scores, alpha, beta, gamma)

    # Color-Coding Ground Users
    for gu in env.gus:
        gu.device.color = unassigned_color
    for j in range(num_uavs):
        for gu in assignments[j]:
            env.gus[gu].device.color = env.uavs[j].device.color
    
    if mat:
        # Computing Matches
        for j in range(num_uavs):
            matches[j].append(len(assignments[j]))
        matches[num_uavs].append(sum([matches[k][-1] for k in range(num_uavs)])) 

        plt.xlim(0, simulation_steps + right_buffer - 1)
        plt.ylim(0, num_gus + top_buffer)

        for j in range(num_uavs):
            plt.plot(matches[j], color=np.array(env.uavs[j].device.color), label=f'UAV {j}')
        plt.plot(matches[num_uavs], color=np.zeros(3), label="Total")

        plt.title("Number of Ground User Assignments per UAV vs. Time")
        plt.xlabel("Time (Seconds)")
        plt.ylabel("Number of Ground Users")
        plt.legend(loc="lower right")
        plt.savefig(f'../demonstration_renders/tri_objective/mat{i}.png', bbox_inches='tight')
        plt.clf()
        # print("Matches Done...")
        
    # Power Consumption
    if pwr:
        for j in range(num_uavs):
            consumptions[j].append(env.getUAVConsumption(j))
        consumptions[num_uavs].append(sum([consumptions[k][-1] for k in range(num_uavs)]))
    
        # Approximate power consumption per UAV used to adjust the graph region
        plt.xlim(0, simulation_steps + right_buffer - 1)
        plt.ylim(0, simulation_steps * expected_consumption)
        
        for j in range(num_uavs):
            plt.plot(consumptions[j], color=np.array(env.uavs[j].device.color), label=f'UAV {j}')
        plt.plot(consumptions[num_uavs], color=np.zeros(3), label="Total")
        
        plt.title("UAV Energy Consumption vs. Time")
        plt.xlabel("Time (Seconds)")
        plt.ylabel("Energy Consumption (Joules)")
        plt.legend(loc="lower right")
        plt.savefig(f'../demonstration_renders/tri_objective/pwr{i}.png', bbox_inches='tight')
        plt.clf()
        # print("Power Done...")

    # Total Theoretical Maximum Data Rate
    if tmdr:
        # Adding new data rate values

        for j in range(num_uavs):
            tmdrs[j].append(objective[j])
        tmdrs[num_uavs].append(sum([tmdrs[k][-1] for k in range(num_uavs)]))
    
        # Setting plotting limits based on historical and known information
        plt.xlim(0, simulation_steps + right_buffer - 1)
        plt.ylim(0, expected_tmdr)

        for j in range(num_uavs):
            plt.plot(tmdrs[j], color=np.array(env.uavs[j].device.color), label=f'UAV {j}')
        plt.plot(tmdrs[num_uavs], color=np.zeros(3), label="Total")
            
        plt.title("Theoretical Maximum Data Rate vs. Time")
        plt.xlabel("Time (Seconds)")
        plt.ylabel("Theoretical Maximum Data Rate (Mbps)")
        plt.legend(loc="lower right")
        plt.savefig(f'../demonstration_renders/tri_objective/mdr{i}.png', bbox_inches='tight')
        # print("TMDR Done...")

    # Coverage Map
    if cmr:
        cm = env.computeCoverageMap(max_depth, coverage_map_samples)
        env.scene.render_to_file(camera=render_camera, filename=f'../demonstration_renders/tri_objective/cmr{i}.png', coverage_map=cm, 
                                 show_paths=False, show_devices=True, num_samples=render_samples, resolution=resolution, fov=fov);
        # print("Coverage Map Done...")





# Defining Constants
simulation_steps = 100  # Test this with a single one before AFKing, ideally about 100+
num_uavs = 4
num_gus = 118
max_depth = 2
right_buffer = 5
top_buffer = 10
data_rate_samples = 100000
coverage_map_samples = 1000000
expected_consumption = 8000
expected_tmdr = 1500000  # Actual Data Rate in bit/sec
expected_path_quality = 1500000  # Theortical Maximum Data Rate in bit/sec
render_camera = Camera("c1", np.array([0, 900, 144]), orientation=None, look_at=np.array([0, 0, 0]))
render_samples = 32
unassigned_color = np.array([0.8, 0.8, 0.8])  # Approximately Gray
resolution = [4000, 800]
fov = 120
pwr, mdr, cmr, mat, pqu =True, True, False, True, True

# Arrays for data - One for each UAV plus an extra for the totals
consumptions = [[], [], [], [], []]
tmdrs = [[], [], [], [], []]
matches = [[], [], [], [], []]
qualities = [[], [], [], [], []]

# Restarting the Scene, this resets the UAV positions
env = createEnvironment()
resetUAVs()
resetAntennas()

for i in range(simulation_steps):
    print(f'Simulation: {i}')
    env.step(positions[i + 1])  # Moving the UAVs and Ground Users

    # Assigning Ground Users
    path_quality_scores = env.computeGeneralDataRate(max_depth=max_depth, num_samples=data_rate_samples)
    assignments, data_rates = env.assignGUsByCount(path_quality_scores)

    # Color-Coding Ground Users
    for gu in env.gus:
        gu.device.color = unassigned_color
    for j in range(num_uavs):
        for gu in assignments[j]:
            env.gus[gu].device.color = env.uavs[j].device.color
    
    if mat:
        # Computing Matches
        for j in range(num_uavs):
            matches[j].append(len(assignments[j]))
        matches[num_uavs].append(sum([matches[k][-1] for k in range(num_uavs)])) 

        plt.xlim(0, simulation_steps + right_buffer - 1)
        plt.ylim(0, num_gus + top_buffer)

        for j in range(num_uavs):
            plt.plot(matches[j], color=np.array(env.uavs[j].device.color), label=f'UAV {j}')
        plt.plot(matches[num_uavs], color=np.zeros(3), label="Total")

        plt.title("Number of Ground User Assignments per UAV vs. Time")
        plt.xlabel("Time (Seconds)")
        plt.ylabel("Number of Ground Users")
        plt.legend(loc="lower right")
        plt.savefig(f'../demonstration_renders/polished_renders/1_assignGUsByCount/mat{i}.png', bbox_inches='tight')
        plt.clf()
        # print("Matches Done...")
        
    # Power Consumption
    if pwr:
        for j in range(num_uavs):
            consumptions[j].append(env.getUAVConsumption(j))
        consumptions[num_uavs].append(sum([consumptions[k][-1] for k in range(num_uavs)]))
    
        # Approximate power consumption per UAV used to adjust the graph region
        plt.xlim(0, simulation_steps + right_buffer - 1)
        plt.ylim(0, simulation_steps * expected_consumption)
        
        for j in range(num_uavs):
            plt.plot(consumptions[j], color=np.array(env.uavs[j].device.color), label=f'UAV {j}')
        plt.plot(consumptions[num_uavs], color=np.zeros(3), label="Total")
        
        plt.title("UAV Energy Consumption vs. Time")
        plt.xlabel("Time (Seconds)")
        plt.ylabel("Energy Consumption (Joules)")
        plt.legend(loc="lower right")
        plt.savefig(f'../demonstration_renders/polished_renders/1_assignGUsByCount/pwr{i}.png', bbox_inches='tight')
        plt.clf()
        # print("Power Done...")

    # Maximum Data Rate
    if mdr:
        # Adding new data rate values
        for j in range(num_uavs + 1):
            tmdrs[j].append(data_rates[j])
    
        # Setting plotting limits based on historical and known information
        plt.xlim(0, simulation_steps + right_buffer - 1)
        plt.ylim(0, expected_tmdr)

        for j in range(num_uavs):
            plt.plot(tmdrs[j], color=np.array(env.uavs[j].device.color), label=f'UAV {j}')
        plt.plot(tmdrs[num_uavs], color=np.zeros(3), label="Total")
            
        plt.title("Actual Data Rate vs. Time")
        plt.xlabel("Time (Seconds)")
        plt.ylabel("Actual Data Rate (Bytes/Sec)")
        plt.legend(loc="lower right")
        plt.savefig(f'../demonstration_renders/polished_renders/1_assignGUsByCount/mdr{i}.png', bbox_inches='tight')
        plt.clf()
        # print("MDR Done...")

    # Total path quality - a measure of signal quality instead of actual throughput
    if pqu:
        new_qualities = [np.sum(path_quality_scores[:, j]) for j in range(num_uavs)]
        new_qualities.append(sum(new_qualities))
        for j in range(num_uavs + 1):
            qualities[j].append(new_qualities[j])
        
        plt.xlim(0, simulation_steps + right_buffer - 1)
        plt.ylim(0, expected_path_quality)

        for j in range(num_uavs):
            plt.plot(qualities[j], color=np.array(env.uavs[j].device.color), label=f'UAV {j}')
        plt.plot(qualities[num_uavs], color=np.zeros(3), label="Total")

        plt.title("Theoretical Maximum Data Rate vs. Time")
        plt.xlabel("Time (Seconds)")
        plt.ylabel("Theoretical Maximum Data Rate (Bytes/Sec)")
        plt.legend(loc="lower right")
        plt.savefig(f'../demonstration_renders/polished_renders/1_assignGUsByCount/pqu{i}.png', bbox_inches='tight')
        plt.clf()
        # print("PQU Done...")

    # Coverage Map
    if cmr:
        cm = env.computeCoverageMap(max_depth, coverage_map_samples)
        env.scene.render_to_file(camera=render_camera, filename=f'../demonstration_renders/polished_renders/1_assignGUsByCount/cmr{i}.png', coverage_map=cm, 
                                 show_paths=False, show_devices=True, num_samples=render_samples, resolution=resolution, fov=fov);
        # print("Coverage Map Done...")





# Defining Constants
simulation_steps = 100  # Test this with a single one before AFKing, ideally about 100+
num_uavs = 4
num_gus = 118
max_depth = 2
right_buffer = 5
top_buffer = 10
data_rate_samples = 100000
coverage_map_samples = 1000000
expected_consumption = 8000
expected_tmdr = 1900000  # Actual Data Rate in bit/sec
expected_path_quality = 1900000  # Theortical Maximum Data Rate in bit/sec
render_camera = Camera("c1", np.array([0, 900, 144]), orientation=None, look_at=np.array([0, 0, 0]))
render_samples = 32
unassigned_color = np.array([0.8, 0.8, 0.8])  # Approximately Gray
resolution = [4000, 800]
fov = 120
pwr, mdr, cmr, mat, pqu =True, True, False, True, True

# Arrays for data - One for each UAV plus an extra for the totals
consumptions = [[], [], [], [], []]
tmdrs = [[], [], [], [], []]
matches = [[], [], [], [], []]
qualities = [[], [], [], [], []]

# Restarting the Scene, this resets the UAV positions
env = createEnvironment()
resetUAVs()
resetAntennas()

for i in range(simulation_steps):
    print(f'Simulation: {i}')
    env.step(positions[i + 1])  # Moving the UAVs and Ground Users

    # Assigning Ground Users
    path_quality_scores = env.computeGeneralDataRate(max_depth=max_depth, num_samples=data_rate_samples)
    print(f"Data rate computed {i}")
    assignments, data_rates = env.assignGUsByThroughputWaste(path_quality_scores, scale=1000, alpha=1, beta=5)
    print(f"Assignments computed {i}")

    # Color-Coding Ground Users
    for gu in env.gus:
        gu.device.color = unassigned_color
    for j in range(num_uavs):
        for gu in assignments[j]:
            env.gus[gu].device.color = env.uavs[j].device.color

    if mat:
        # Computing Matches
        for j in range(num_uavs):
            matches[j].append(len(assignments[j]))
        matches[num_uavs].append(sum([matches[k][-1] for k in range(num_uavs)]))

        plt.xlim(0, simulation_steps + right_buffer - 1)
        plt.ylim(0, num_gus + top_buffer)

        for j in range(num_uavs):
            plt.plot(matches[j], color=np.array(env.uavs[j].device.color), label=f'UAV {j}')
        plt.plot(matches[num_uavs], color=np.zeros(3), label="Total")

        plt.title("Number of Ground User Assignments per UAV vs. Time")
        plt.xlabel("Time (Seconds)")
        plt.ylabel("Number of Ground Users")
        plt.legend(loc="lower right")
        plt.savefig(f'../demonstration_renders/polished_renders/2_assignGUsByThroughputWaste/mat{i}.png', bbox_inches='tight')
        plt.clf()
        # print("Matches Done...")

    # Power Consumption
    if pwr:
        for j in range(num_uavs):
            consumptions[j].append(env.getUAVConsumption(j))
        consumptions[num_uavs].append(sum([consumptions[k][-1] for k in range(num_uavs)]))

        # Approximate power consumption per UAV used to adjust the graph region
        plt.xlim(0, simulation_steps + right_buffer - 1)
        plt.ylim(0, simulation_steps * expected_consumption)

        for j in range(num_uavs):
            plt.plot(consumptions[j], color=np.array(env.uavs[j].device.color), label=f'UAV {j}')
        plt.plot(consumptions[num_uavs], color=np.zeros(3), label="Total")

        plt.title("UAV Energy Consumption vs. Time")
        plt.xlabel("Time (Seconds)")
        plt.ylabel("Energy Consumption (Joules)")
        plt.legend(loc="lower right")
        plt.savefig(f'../demonstration_renders/polished_renders/2_assignGUsByThroughputWaste/pwr{i}.png', bbox_inches='tight')
        plt.clf()
        # print("Power Done...")

    # Maximum Data Rate
    if mdr:
        # Adding new data rate values
        for j in range(num_uavs + 1):
            tmdrs[j].append(data_rates[j])

        # Setting plotting limits based on historical and known information
        plt.xlim(0, simulation_steps + right_buffer - 1)
        plt.ylim(0, expected_tmdr)

        for j in range(num_uavs):
            plt.plot(tmdrs[j], color=np.array(env.uavs[j].device.color), label=f'UAV {j}')
        plt.plot(tmdrs[num_uavs], color=np.zeros(3), label="Total")

        plt.title("Actual Data Rate vs. Time")
        plt.xlabel("Time (Seconds)")
        plt.ylabel("Actual Data Rate (Bytes/Sec)")
        plt.legend(loc="lower right")
        plt.savefig(f'../demonstration_renders/polished_renders/2_assignGUsByThroughputWaste/mdr{i}.png', bbox_inches='tight')
        plt.clf()
        # print("MDR Done...")

    # Total path quality - a measure of signal quality instead of actual throughput
    if pqu:
        new_qualities = [np.sum(path_quality_scores[:, j]) for j in range(num_uavs)]
        new_qualities.append(sum(new_qualities))
        for j in range(num_uavs + 1):
            qualities[j].append(new_qualities[j])

        plt.xlim(0, simulation_steps + right_buffer - 1)
        plt.ylim(0, expected_path_quality)

        for j in range(num_uavs):
            plt.plot(qualities[j], color=np.array(env.uavs[j].device.color), label=f'UAV {j}')
        plt.plot(qualities[num_uavs], color=np.zeros(3), label="Total")

        plt.title("Theoretical Maximum Data Rate vs. Time")
        plt.xlabel("Time (Seconds)")
        plt.ylabel("Theoretical Maximum Data Rate (Bytes/Sec)")
        plt.legend(loc="lower right")
        plt.savefig(f'../demonstration_renders/polished_renders/2_assignGUsByThroughputWaste/pqu{i}.png', bbox_inches='tight')
        plt.clf()
        # print("PQU Done...")

    # Coverage Map
    if cmr:
        cm = env.computeCoverageMap(max_depth, coverage_map_samples)
        env.scene.render_to_file(camera=render_camera, filename=f'../demonstration_renders/polished_renders/2_assignGUsByThroughputWaste/cmr{i}.png', coverage_map=cm,
                                 show_paths=False, show_devices=True, num_samples=render_samples, resolution=resolution, fov=fov);
        # print("Coverage Map Done...")





# Defining Constants
simulation_steps = 100  # Test this with a single one before AFKing, ideally about 100+
num_uavs = 4
num_gus = 118
max_depth = 2
right_buffer = 5
top_buffer = 10
data_rate_samples = 100000
coverage_map_samples = 1000000
expected_consumption = 8000
expected_tmdr = 1500000  # Actual Data Rate in bit/sec
expected_path_quality = 1500000  # Theortical Maximum Data Rate in bit/sec
render_camera = Camera("c1", np.array([0, 900, 144]), orientation=None, look_at=np.array([0, 0, 0]))
render_samples = 32
unassigned_color = np.array([0.8, 0.8, 0.8])  # Approximately Gray
resolution = [4000, 800]
fov = 120
pwr, mdr, cmr, mat, pqu =True, True, False, True, True

# Arrays for data - One for each UAV plus an extra for the totals
consumptions = [[], [], [], [], []]
tmdrs = [[], [], [], [], []]
matches = [[], [], [], [], []]
qualities = [[], [], [], [], []]

# Restarting the Scene, this resets the UAV positions
env = createEnvironment()
resetUAVs()
resetAntennas()

for i in range(simulation_steps):
    print(f'Simulation: {i}')
    env.step(positions[i + 1])  # Moving the UAVs and Ground Users

    # Assigning Ground Users
    alpha_values = env.computeAlpha(max_depth=max_depth, num_samples=data_rate_samples)
    path_quality_scores = env.computeGeneralDataRate(max_depth=max_depth, num_samples=data_rate_samples)
    assignments, data_rates = env.assignGUsWithTriObjective(alpha_values)

    # Color-Coding Ground Users
    for gu in env.gus:
        gu.device.color = unassigned_color
    for j in range(num_uavs):
        for gu in assignments[j]:
            env.gus[gu].device.color = env.uavs[j].device.color
    
    if mat:
        # Computing Matches
        for j in range(num_uavs):
            matches[j].append(len(assignments[j]))
        matches[num_uavs].append(sum([matches[k][-1] for k in range(num_uavs)])) 

        plt.xlim(0, simulation_steps + right_buffer - 1)
        plt.ylim(0, num_gus + top_buffer)

        for j in range(num_uavs):
            plt.plot(matches[j], color=np.array(env.uavs[j].device.color), label=f'UAV {j}')
        plt.plot(matches[num_uavs], color=np.zeros(3), label="Total")

        plt.title("Number of Ground User Assignments per UAV vs. Time")
        plt.xlabel("Time (Seconds)")
        plt.ylabel("Number of Ground Users")
        plt.legend(loc="lower right")
        plt.savefig(f'../demonstration_renders/polished_renders/3_assignGUsWithTriObjective/mat{i}.png', bbox_inches='tight')
        plt.clf()
        # print("Matches Done...")
        
    # Power Consumption
    if pwr:
        for j in range(num_uavs):
            consumptions[j].append(env.getUAVConsumption(j))
        consumptions[num_uavs].append(sum([consumptions[k][-1] for k in range(num_uavs)]))
    
        # Approximate power consumption per UAV used to adjust the graph region
        plt.xlim(0, simulation_steps + right_buffer - 1)
        plt.ylim(0, simulation_steps * expected_consumption)
        
        for j in range(num_uavs):
            plt.plot(consumptions[j], color=np.array(env.uavs[j].device.color), label=f'UAV {j}')
        plt.plot(consumptions[num_uavs], color=np.zeros(3), label="Total")
        
        plt.title("UAV Energy Consumption vs. Time")
        plt.xlabel("Time (Seconds)")
        plt.ylabel("Energy Consumption (Joules)")
        plt.legend(loc="lower right")
        plt.savefig(f'../demonstration_renders/polished_renders/3_assignGUsWithTriObjective/pwr{i}.png', bbox_inches='tight')
        plt.clf()
        # print("Power Done...")

    # Maximum Data Rate
    if mdr:
        # Adding new data rate values
        for j in range(num_uavs + 1):
            tmdrs[j].append(data_rates[j])
    
        # Setting plotting limits based on historical and known information
        plt.xlim(0, simulation_steps + right_buffer - 1)
        plt.ylim(0, expected_tmdr)

        for j in range(num_uavs):
            plt.plot(tmdrs[j], color=np.array(env.uavs[j].device.color), label=f'UAV {j}')
        plt.plot(tmdrs[num_uavs], color=np.zeros(3), label="Total")
            
        plt.title("Actual Data Rate vs. Time")
        plt.xlabel("Time (Seconds)")
        plt.ylabel("Actual Data Rate (Bytes/Sec)")
        plt.legend(loc="lower right")
        plt.savefig(f'../demonstration_renders/polished_renders/3_assignGUsWithTriObjective/mdr{i}.png', bbox_inches='tight')
        plt.clf()
        # print("MDR Done...")

    # Total path quality - a measure of signal quality instead of actual throughput
    if pqu:
        new_qualities = [np.sum(path_quality_scores[:, j]) for j in range(num_uavs)]
        new_qualities.append(sum(new_qualities))
        for j in range(num_uavs + 1):
            qualities[j].append(new_qualities[j])
        
        plt.xlim(0, simulation_steps + right_buffer - 1)
        plt.ylim(0, expected_path_quality)

        for j in range(num_uavs):
            plt.plot(qualities[j], color=np.array(env.uavs[j].device.color), label=f'UAV {j}')
        plt.plot(qualities[num_uavs], color=np.zeros(3), label="Total")

        plt.title("Theoretical Maximum Data Rate vs. Time")
        plt.xlabel("Time (Seconds)")
        plt.ylabel("Theoretical Maximum Data Rate (Bytes/Sec)")
        plt.legend(loc="lower right")
        plt.savefig(f'../demonstration_renders/polished_renders/3_assignGUsWithTriObjective/pqu{i}.png', bbox_inches='tight')
        plt.clf()
        # print("PQU Done...")

    # Coverage Map
    if cmr:
        cm = env.computeCoverageMap(max_depth, coverage_map_samples)
        env.scene.render_to_file(camera=render_camera, filename=f'../demonstration_renders/polished_renders/3_assignGUsWithTriObjective/cmr{i}.png', coverage_map=cm, 
                                 show_paths=False, show_devices=True, num_samples=render_samples, resolution=resolution, fov=fov);
        # print("Coverage Map Done...")





# Defining Constants
simulation_steps = 100  # Test this with a single one before AFKing, ideally about 100+
num_uavs = 4
num_gus = 118
max_depth = 2
right_buffer = 5
top_buffer = 10
data_rate_samples = 100000
coverage_map_samples = 1000000
expected_consumption = 8000
expected_tmdr = 1900000  # Actual Data Rate in bit/sec
expected_path_quality = 1900000  # Theortical Maximum Data Rate in bit/sec
render_camera = Camera("c1", np.array([0, 900, 144]), orientation=None, look_at=np.array([0, 0, 0]))
render_samples = 32
unassigned_color = np.array([0.8, 0.8, 0.8])  # Approximately Gray
resolution = [4000, 800]
fov = 120
pwr, mdr, cmr, mat, pqu = False, False, True, False, False

# Arrays for data - One for each UAV plus an extra for the totals
consumptions = [[], [], [], [], []]
tmdrs = [[], [], [], [], []]
matches = [[], [], [], [], []]
qualities = [[], [], [], [], []]

# Restarting the Scene, this resets the UAV positions
env = createEnvironment()
resetUAVs()
resetAntennas()

for i in range(simulation_steps):
    print(f'Simulation: {i}')
    env.step(positions[i + 1])  # Moving the UAVs and Ground Users

    # Assigning Ground Users
    path_quality_scores = env.computeGeneralDataRate(max_depth=max_depth, num_samples=data_rate_samples)
    assignments, data_rates = env.assignGUs(path_quality_scores)

    # Color-Coding Ground Users
    for gu in env.gus:
        gu.device.color = unassigned_color
    for j in range(num_uavs):
        for gu in assignments[j]:
            env.gus[gu].device.color = env.uavs[j].device.color
    
    if mat:
        # Computing Matches
        for j in range(num_uavs):
            matches[j].append(len(assignments[j]))
        matches[num_uavs].append(sum([matches[k][-1] for k in range(num_uavs)])) 

        plt.xlim(0, simulation_steps + right_buffer - 1)
        plt.ylim(0, num_gus + top_buffer)

        for j in range(num_uavs):
            plt.plot(matches[j], color=np.array(env.uavs[j].device.color), label=f'UAV {j}')
        plt.plot(matches[num_uavs], color=np.zeros(3), label="Total")

        plt.title("Number of Ground User Assignments per UAV vs. Time")
        plt.xlabel("Time (Seconds)")
        plt.ylabel("Number of Ground Users")
        plt.legend(loc="lower right")
        plt.savefig(f'../demonstration_renders/polished_renders/0_assignGUs/mat{i}.png', bbox_inches='tight')
        plt.clf()
        # print("Matches Done...")
        
    # Power Consumption
    if pwr:
        for j in range(num_uavs):
            consumptions[j].append(env.getUAVConsumption(j))
        consumptions[num_uavs].append(sum([consumptions[k][-1] for k in range(num_uavs)]))
    
        # Approximate power consumption per UAV used to adjust the graph region
        plt.xlim(0, simulation_steps + right_buffer - 1)
        plt.ylim(0, simulation_steps * expected_consumption)
        
        for j in range(num_uavs):
            plt.plot(consumptions[j], color=np.array(env.uavs[j].device.color), label=f'UAV {j}')
        plt.plot(consumptions[num_uavs], color=np.zeros(3), label="Total")
        
        plt.title("UAV Energy Consumption vs. Time")
        plt.xlabel("Time (Seconds)")
        plt.ylabel("Energy Consumption (Joules)")
        plt.legend(loc="lower right")
        plt.savefig(f'../demonstration_renders/polished_renders/0_assignGUs/pwr{i}.png', bbox_inches='tight')
        plt.clf()
        # print("Power Done...")

    # Maximum Data Rate
    if mdr:
        # Adding new data rate values
        for j in range(num_uavs + 1):
            tmdrs[j].append(data_rates[j])
    
        # Setting plotting limits based on historical and known information
        plt.xlim(0, simulation_steps + right_buffer - 1)
        plt.ylim(0, expected_tmdr)

        for j in range(num_uavs):
            plt.plot(tmdrs[j], color=np.array(env.uavs[j].device.color), label=f'UAV {j}')
        plt.plot(tmdrs[num_uavs], color=np.zeros(3), label="Total")
            
        plt.title("Actual Data Rate vs. Time")
        plt.xlabel("Time (Seconds)")
        plt.ylabel("Actual Data Rate (Bytes/Sec)")
        plt.legend(loc="lower right")
        plt.savefig(f'../demonstration_renders/polished_renders/0_assignGUs/mdr{i}.png', bbox_inches='tight')
        plt.clf()
        # print("MDR Done...")

    # Total path quality - a measure of signal quality instead of actual throughput
    if pqu:
        new_qualities = [np.sum(path_quality_scores[:, j]) for j in range(num_uavs)]
        new_qualities.append(sum(new_qualities))
        for j in range(num_uavs + 1):
            qualities[j].append(new_qualities[j])
        
        plt.xlim(0, simulation_steps + right_buffer - 1)
        plt.ylim(0, expected_path_quality)

        for j in range(num_uavs):
            plt.plot(qualities[j], color=np.array(env.uavs[j].device.color), label=f'UAV {j}')
        plt.plot(qualities[num_uavs], color=np.zeros(3), label="Total")

        plt.title("Theoretical Maximum Data Rate vs. Time")
        plt.xlabel("Time (Seconds)")
        plt.ylabel("Theoretical Maximum Data Rate (Bytes/Sec)")
        plt.legend(loc="lower right")
        plt.savefig(f'../demonstration_renders/polished_renders/0_assignGUs/pqu{i}.png', bbox_inches='tight')
        plt.clf()
        # print("PQU Done...")

    # Coverage Map
    if cmr:
        cm = env.computeCoverageMap(max_depth, coverage_map_samples)
        env.scene.render_to_file(camera=render_camera, filename=f'../demonstration_renders/polished_renders/0_assignGUs/cmr{i}.png', coverage_map=cm, 
                                 show_paths=False, show_devices=True, num_samples=render_samples, resolution=resolution, fov=fov);
        # print("Coverage Map Done...")
