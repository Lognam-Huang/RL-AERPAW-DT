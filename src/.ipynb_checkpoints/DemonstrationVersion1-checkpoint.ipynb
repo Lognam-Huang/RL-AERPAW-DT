{
 "cells": [
  {
   "cell_type": "code",
   "execution_count": 1,
   "id": "0a3ccfed-df39-4d13-8c64-a7da81c43c38",
   "metadata": {},
   "outputs": [
    {
     "name": "stdout",
     "output_type": "stream",
     "text": [
      "WARNING:tensorflow:From C:\\Users\\legoe\\miniconda3\\envs\\RL-DT-ENV\\Lib\\site-packages\\keras\\src\\losses.py:2976: The name tf.losses.sparse_softmax_cross_entropy is deprecated. Please use tf.compat.v1.losses.sparse_softmax_cross_entropy instead.\n",
      "\n"
     ]
    }
   ],
   "source": [
    "# TODO: Add information about how the files are generated into this program.\n",
    "# Importing the Framework and other important libraries\n",
    "import sionna\n",
    "import sionna.rt\n",
    "import numpy as np\n",
    "import tensorflow as tf\n",
    "import matplotlib.pyplot as plt\n",
    "from EnvironmentFramework import Environment, UAV, GroundUser\n",
    "from sionna.rt import PlanarArray"
   ]
  },
  {
   "cell_type": "code",
   "execution_count": 2,
   "id": "9546fafc-11ad-45d7-a151-0d334372ff47",
   "metadata": {},
   "outputs": [
    {
     "name": "stdout",
     "output_type": "stream",
     "text": [
      "[]\n",
      "1.1.0\n",
      "3.6.2\n",
      "1.0.3\n"
     ]
    }
   ],
   "source": [
    "import mitsuba\n",
    "import drjit\n",
    "\n",
    "print(tf.config.list_physical_devices(\"GPU\"))\n",
    "print(sionna.rt.__version__)\n",
    "print(mitsuba.__version__)\n",
    "print(drjit.__version__)"
   ]
  },
  {
   "cell_type": "code",
   "execution_count": null,
   "id": "56b75ae7-f06d-4e80-b715-671ba5eba378",
   "metadata": {},
   "outputs": [],
   "source": [
    "# Creating a test environment from Sionna\n",
    "env = sionna.rt.load_scene(sionna.rt.scene.simple_wedge)\n",
    "print(\"Got the scene!\")\n",
    "env.preview()"
   ]
  },
  {
   "cell_type": "code",
   "execution_count": null,
   "id": "fc69d3a5-03af-45bd-bb56-ad03078cd95b",
   "metadata": {},
   "outputs": [],
   "source": []
  }
 ],
 "metadata": {
  "kernelspec": {
   "display_name": "Python 3 (ipykernel)",
   "language": "python",
   "name": "python3"
  },
  "language_info": {
   "codemirror_mode": {
    "name": "ipython",
    "version": 3
   },
   "file_extension": ".py",
   "mimetype": "text/x-python",
   "name": "python",
   "nbconvert_exporter": "python",
   "pygments_lexer": "ipython3",
   "version": "3.11.9"
  }
 },
 "nbformat": 4,
 "nbformat_minor": 5
}
